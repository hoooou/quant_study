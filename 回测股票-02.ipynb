{
 "cells": [
  {
   "cell_type": "code",
   "execution_count": 37,
   "metadata": {},
   "outputs": [
    {
     "name": "stdout",
     "output_type": "stream",
     "text": [
      "Looking in indexes: https://pypi.tuna.tsinghua.edu.cn/simple\n",
      "Collecting seaborn\n",
      "  Downloading https://pypi.tuna.tsinghua.edu.cn/packages/83/11/00d3c3dfc25ad54e731d91449895a79e4bf2384dc3ac01809010ba88f6d5/seaborn-0.13.2-py3-none-any.whl (294 kB)\n",
      "Requirement already satisfied: numpy!=1.24.0,>=1.20 in ./.conda/lib/python3.11/site-packages (from seaborn) (1.26.4)\n",
      "Requirement already satisfied: pandas>=1.2 in ./.conda/lib/python3.11/site-packages (from seaborn) (2.2.3)\n",
      "Requirement already satisfied: matplotlib!=3.6.1,>=3.4 in ./.conda/lib/python3.11/site-packages (from seaborn) (3.9.2)\n",
      "Requirement already satisfied: contourpy>=1.0.1 in ./.conda/lib/python3.11/site-packages (from matplotlib!=3.6.1,>=3.4->seaborn) (1.3.0)\n",
      "Requirement already satisfied: cycler>=0.10 in ./.conda/lib/python3.11/site-packages (from matplotlib!=3.6.1,>=3.4->seaborn) (0.12.1)\n",
      "Requirement already satisfied: fonttools>=4.22.0 in ./.conda/lib/python3.11/site-packages (from matplotlib!=3.6.1,>=3.4->seaborn) (4.54.1)\n",
      "Requirement already satisfied: kiwisolver>=1.3.1 in ./.conda/lib/python3.11/site-packages (from matplotlib!=3.6.1,>=3.4->seaborn) (1.4.7)\n",
      "Requirement already satisfied: packaging>=20.0 in ./.conda/lib/python3.11/site-packages (from matplotlib!=3.6.1,>=3.4->seaborn) (24.1)\n",
      "Requirement already satisfied: pillow>=8 in ./.conda/lib/python3.11/site-packages (from matplotlib!=3.6.1,>=3.4->seaborn) (11.0.0)\n",
      "Requirement already satisfied: pyparsing>=2.3.1 in ./.conda/lib/python3.11/site-packages (from matplotlib!=3.6.1,>=3.4->seaborn) (3.2.0)\n",
      "Requirement already satisfied: python-dateutil>=2.7 in ./.conda/lib/python3.11/site-packages (from matplotlib!=3.6.1,>=3.4->seaborn) (2.9.0)\n",
      "Requirement already satisfied: pytz>=2020.1 in ./.conda/lib/python3.11/site-packages (from pandas>=1.2->seaborn) (2024.2)\n",
      "Requirement already satisfied: tzdata>=2022.7 in ./.conda/lib/python3.11/site-packages (from pandas>=1.2->seaborn) (2024.2)\n",
      "Requirement already satisfied: six>=1.5 in ./.conda/lib/python3.11/site-packages (from python-dateutil>=2.7->matplotlib!=3.6.1,>=3.4->seaborn) (1.16.0)\n",
      "Installing collected packages: seaborn\n",
      "Successfully installed seaborn-0.13.2\n"
     ]
    }
   ],
   "source": [
    "# pip install -i https://pypi.tuna.tsinghua.edu.cn/simple lib-pybroker\n",
    "!pip install -i https://pypi.tuna.tsinghua.edu.cn/simple seaborn\n"
   ]
  },
  {
   "cell_type": "code",
   "execution_count": 1,
   "metadata": {},
   "outputs": [
    {
     "data": {
      "text/plain": [
       "<diskcache.core.Cache at 0x122d09190>"
      ]
     },
     "execution_count": 1,
     "metadata": {},
     "output_type": "execute_result"
    }
   ],
   "source": [
    "import pybroker\n",
    "from pybroker import Strategy,StrategyConfig,YFinance\n",
    "pybroker.enable_data_source_cache('my_strategy')"
   ]
  },
  {
   "cell_type": "code",
   "execution_count": 2,
   "metadata": {},
   "outputs": [],
   "source": [
    "config=StrategyConfig(initial_cash=500_000)\n",
    "strategy=Strategy(YFinance(),\"3/1/2017\",\"3/1/2022\",config)"
   ]
  },
  {
   "cell_type": "code",
   "execution_count": 3,
   "metadata": {},
   "outputs": [],
   "source": [
    "from pybroker import ExecContext\n",
    "def buy_low(ctx:ExecContext):\n",
    "    if ctx.long_pos():\n",
    "        return;\n",
    "    if ctx.bars>2 and ctx.close[-1]<ctx.low[-2]:\n",
    "        ctx.buy_shares=ctx.calc_target_shares(0.25)\n",
    "        ctx.buy_limit_price=ctx.close[-1]-0.01\n",
    "        ctx.hold_bars=3"
   ]
  },
  {
   "cell_type": "code",
   "execution_count": 4,
   "metadata": {},
   "outputs": [],
   "source": [
    "def short_high(ctx:ExecContext):\n",
    "    if ctx.short_pos():\n",
    "        return\n",
    "    if ctx.bars>2 and ctx.close[-1]>ctx.high[-2]:\n",
    "        ctx.sell_shares=100\n",
    "        ctx.hold_bars=2"
   ]
  },
  {
   "cell_type": "code",
   "execution_count": 5,
   "metadata": {},
   "outputs": [],
   "source": [
    "strategy.add_execution(buy_low,[\"AAPL\",\"MSFT\"])"
   ]
  },
  {
   "cell_type": "code",
   "execution_count": 6,
   "metadata": {},
   "outputs": [],
   "source": [
    "strategy.add_execution(short_high,[\"TSLA\"])"
   ]
  },
  {
   "cell_type": "code",
   "execution_count": 7,
   "metadata": {},
   "outputs": [
    {
     "name": "stdout",
     "output_type": "stream",
     "text": [
      "Backtesting: 2017-03-01 00:00:00 to 2022-03-01 00:00:00\n",
      "\n",
      "Loaded cached bar data.\n",
      "\n",
      "Test split: 2017-03-01 00:00:00 to 2022-02-28 00:00:00\n"
     ]
    },
    {
     "name": "stderr",
     "output_type": "stream",
     "text": [
      "  0% (0 of 1259) |                       | Elapsed Time: 0:00:00 ETA:  --:--:--\n",
      "  5% (71 of 1259) |#                     | Elapsed Time: 0:00:00 ETA:   0:00:00\n",
      " 15% (201 of 1259) |###                  | Elapsed Time: 0:00:00 ETA:   0:00:00\n",
      " 25% (321 of 1259) |#####                | Elapsed Time: 0:00:00 ETA:   0:00:00\n",
      " 35% (451 of 1259) |#######              | Elapsed Time: 0:00:00 ETA:   0:00:00\n",
      " 40% (511 of 1259) |########             | Elapsed Time: 0:00:00 ETA:   0:00:00\n",
      " 50% (631 of 1259) |##########           | Elapsed Time: 0:00:00 ETA:   0:00:00\n",
      " 58% (741 of 1259) |############         | Elapsed Time: 0:00:00 ETA:   0:00:00\n",
      " 67% (851 of 1259) |##############       | Elapsed Time: 0:00:00 ETA:   0:00:00\n",
      " 76% (961 of 1259) |################     | Elapsed Time: 0:00:00 ETA:   0:00:00\n",
      " 86% (1091 of 1259) |#################   | Elapsed Time: 0:00:00 ETA:   0:00:00\n",
      " 90% (1141 of 1259) |##################  | Elapsed Time: 0:00:00 ETA:   0:00:00\n",
      " 99% (1251 of 1259) |################### | Elapsed Time: 0:00:00 ETA:   0:00:00\n",
      "100% (1259 of 1259) |####################| Elapsed Time: 0:00:00 Time:  0:00:00\n"
     ]
    },
    {
     "name": "stdout",
     "output_type": "stream",
     "text": [
      "\n",
      "Finished backtest: 0:00:05\n"
     ]
    }
   ],
   "source": [
    "result=strategy.backtest()"
   ]
  },
  {
   "cell_type": "code",
   "execution_count": 8,
   "metadata": {},
   "outputs": [
    {
     "data": {
      "text/plain": [
       "[<matplotlib.lines.Line2D at 0x124e42190>]"
      ]
     },
     "execution_count": 8,
     "metadata": {},
     "output_type": "execute_result"
    },
    {
     "data": {
      "image/png": "[encoded data removed]",
      "text/plain": [
       "<Figure size 640x480 with 1 Axes>"
      ]
     },
     "metadata": {},
     "output_type": "display_data"
    }
   ],
   "source": [
    "import matplotlib.pyplot as plt\n",
    "\n",
    "chart = plt.subplot2grid((3, 2), (0, 0), rowspan=3, colspan=2)\n",
    "chart.plot(result.portfolio.index, result.portfolio['market_value'])\n"
   ]
  },
  {
   "cell_type": "code",
   "execution_count": null,
   "metadata": {},
   "outputs": [
    {
     "name": "stdout",
     "output_type": "stream",
     "text": [
      "{'交易次数': 303.0, '初始市值': 500000.0, '期末市值': 572353.3, '总盈亏': 73174.63, '未实现盈亏': -821.3299999999581, '总回报率': 14.634926000000004, '总盈利': 176908.36, '总亏损': -103733.72999999998, '总手续费': 0.0, '最大回撤（现金）': -13308.050000000047, '最大回撤（百分比）': -2.3597218205536397, '胜率': 51.48514851485149, '亏损率': 48.51485148514851, '盈利交易次数': 156.0, '亏损交易次数': 147.0, '每笔交易平均盈亏': 241.5004290429043, '每笔交易平均回报率': 0.14877887788778876, '每笔交易平均K线数': 2.2508250825082508, '每笔交易平均盈利': 1134.0279487179487, '每笔交易平均盈利率': 3.1817307692307697, '盈利交易的平均K线数': 2.301282051282051, '每笔交易平均亏损': -705.6716326530611, '每笔交易平均亏损率': -3.069863945578231, '亏损交易的平均K线数': 2.197278911564626, '最大盈利交易': 16007.88, '最大盈利交易（百分比）': 11.69, '最大盈利交易的K线数': 3.0, '最大亏损交易': -7258.92, '最大亏损交易（百分比）': -5.34, '最大亏损交易的K线数': 3.0, '最大连续盈利交易次数': 8.0, '最大连续亏损交易次数': 9.0, '夏普比率': 0.049014391127464155, '索提诺比率': 0.05266762544397321, '盈亏比': 1.2822060415002987, '溃疡指数': 0.39737356712589106, '溃疡表现指数': 0.027624592839677206, '净值R²': 0.909570628892442, '标准误差': 31112.23335281851}\n"
     ]
    }
   ],
   "source": [
    "import plot_utils\n",
    "df=plot_utils.plotResult(result)\n",
    "result_dict = df.set_index('zh_name')['value'].to_dict()\n",
    "# 打印结果\n",
    "print(result_dict)"
   ]
  },
  {
   "cell_type": "code",
   "execution_count": 10,
   "metadata": {},
   "outputs": [
    {
     "data": {
      "text/plain": [
       "{'交易次数': 303.0,\n",
       " '初始市值': 500000.0,\n",
       " '期末市值': 572353.3,\n",
       " '总盈亏': 73174.63,\n",
       " '未实现盈亏': -821.3299999999581,\n",
       " '总回报率': 14.634926000000004,\n",
       " '总盈利': 176908.36,\n",
       " '总亏损': -103733.72999999998,\n",
       " '总手续费': 0.0,\n",
       " '最大回撤（现金）': -13308.050000000047,\n",
       " '最大回撤（百分比）': -2.3597218205536397,\n",
       " '胜率': 51.48514851485149,\n",
       " '亏损率': 48.51485148514851,\n",
       " '盈利交易次数': 156.0,\n",
       " '亏损交易次数': 147.0,\n",
       " '每笔交易平均盈亏': 241.5004290429043,\n",
       " '每笔交易平均回报率': 0.14877887788778876,\n",
       " '每笔交易平均K线数': 2.2508250825082508,\n",
       " '每笔交易平均盈利': 1134.0279487179487,\n",
       " '每笔交易平均盈利率': 3.1817307692307697,\n",
       " '盈利交易的平均K线数': 2.301282051282051,\n",
       " '每笔交易平均亏损': -705.6716326530611,\n",
       " '每笔交易平均亏损率': -3.069863945578231,\n",
       " '亏损交易的平均K线数': 2.197278911564626,\n",
       " '最大盈利交易': 16007.88,\n",
       " '最大盈利交易（百分比）': 11.69,\n",
       " '最大盈利交易的K线数': 3.0,\n",
       " '最大亏损交易': -7258.92,\n",
       " '最大亏损交易（百分比）': -5.34,\n",
       " '最大亏损交易的K线数': 3.0,\n",
       " '最大连续盈利交易次数': 8.0,\n",
       " '最大连续亏损交易次数': 9.0,\n",
       " '夏普比率': 0.049014391127464155,\n",
       " '索提诺比率': 0.05266762544397321,\n",
       " '盈亏比': 1.2822060415002987,\n",
       " '溃疡指数': 0.39737356712589106,\n",
       " '溃疡表现指数': 0.027624592839677206,\n",
       " '净值R²': 0.909570628892442,\n",
       " '标准误差': 31112.23335281851}"
      ]
     },
     "execution_count": 10,
     "metadata": {},
     "output_type": "execute_result"
    }
   ],
   "source": [
    "result_dict"
   ]
  }
 ],
 "metadata": {
  "kernelspec": {
   "display_name": "Python 3",
   "language": "python",
   "name": "python3"
  },
  "language_info": {
   "codemirror_mode": {
    "name": "ipython",
    "version": 3
   },
   "file_extension": ".py",
   "mimetype": "text/x-python",
   "name": "python",
   "nbconvert_exporter": "python",
   "pygments_lexer": "ipython3",
   "version": "3.11.10"
  }
 },
 "nbformat": 4,
 "nbformat_minor": 2
}
